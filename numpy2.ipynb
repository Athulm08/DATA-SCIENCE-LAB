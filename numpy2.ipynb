{
  "nbformat": 4,
  "nbformat_minor": 0,
  "metadata": {
    "colab": {
      "provenance": [],
      "authorship_tag": "ABX9TyOVlRwGAChSkL4srTH2f0ju",
      "include_colab_link": true
    },
    "kernelspec": {
      "name": "python3",
      "display_name": "Python 3"
    },
    "language_info": {
      "name": "python"
    }
  },
  "cells": [
    {
      "cell_type": "markdown",
      "metadata": {
        "id": "view-in-github",
        "colab_type": "text"
      },
      "source": [
        "<a href=\"https://colab.research.google.com/github/Athulm08/DATA-SCIENCE-LAB/blob/main/numpy2.ipynb\" target=\"_parent\"><img src=\"https://colab.research.google.com/assets/colab-badge.svg\" alt=\"Open In Colab\"/></a>"
      ]
    },
    {
      "cell_type": "code",
      "execution_count": null,
      "metadata": {
        "id": "psX9p69zcNx5"
      },
      "outputs": [],
      "source": []
    },
    {
      "cell_type": "markdown",
      "source": [
        "1.Start by creating variables of various numeric data types and assigning them values"
      ],
      "metadata": {
        "id": "I3Z4aueEcwBf"
      }
    },
    {
      "cell_type": "code",
      "source": [
        "integer_variable = 10\n",
        "float_variable = 3.14\n",
        "complex_variable = 2 + 3j"
      ],
      "metadata": {
        "id": "ugZHuVspc0Jj"
      },
      "execution_count": 2,
      "outputs": []
    },
    {
      "cell_type": "markdown",
      "source": [
        "2. Print the data types and values of these variables."
      ],
      "metadata": {
        "id": "fOZc0FlOdKoS"
      }
    },
    {
      "cell_type": "code",
      "metadata": {
        "colab": {
          "base_uri": "https://localhost:8080/"
        },
        "id": "563e55bc",
        "outputId": "ee603fd3-601b-4c08-df17-1fcb15057cb9"
      },
      "source": [
        "print(f\"integer_variable: value = {integer_variable}, type = {type(integer_variable)}\")\n",
        "print(f\"float_variable: value = {float_variable}, type = {type(float_variable)}\")\n",
        "print(f\"complex_variable: value = {complex_variable}, type = {type(complex_variable)}\")"
      ],
      "execution_count": 3,
      "outputs": [
        {
          "output_type": "stream",
          "name": "stdout",
          "text": [
            "integer_variable: value = 10, type = <class 'int'>\n",
            "float_variable: value = 3.14, type = <class 'float'>\n",
            "complex_variable: value = (2+3j), type = <class 'complex'>\n"
          ]
        }
      ]
    },
    {
      "cell_type": "markdown",
      "source": [
        "3. Perform mathematical operations on these variables"
      ],
      "metadata": {
        "id": "jVlXyszBdYS_"
      }
    },
    {
      "cell_type": "code",
      "metadata": {
        "colab": {
          "base_uri": "https://localhost:8080/"
        },
        "id": "cea72bcb",
        "outputId": "02065959-4493-4e0a-f1bb-035fe4080310"
      },
      "source": [
        "sum_result = integer_variable + float_variable\n",
        "difference_result = complex_variable - integer_variable\n",
        "product_result = float_variable * complex_variable\n",
        "division_result = integer_variable / float_variable\n",
        "\n",
        "print(f\"Sum of integer and float: {sum_result}\")\n",
        "print(f\"Difference of complex and integer: {difference_result}\")\n",
        "print(f\"Product of float and complex: {product_result}\")\n",
        "print(f\"Division of integer by float: {division_result}\")"
      ],
      "execution_count": 4,
      "outputs": [
        {
          "output_type": "stream",
          "name": "stdout",
          "text": [
            "Sum of integer and float: 13.14\n",
            "Difference of complex and integer: (-8+3j)\n",
            "Product of float and complex: (6.28+9.42j)\n",
            "Division of integer by float: 3.184713375796178\n"
          ]
        }
      ]
    },
    {
      "cell_type": "markdown",
      "source": [
        "4. Update the values of these variables."
      ],
      "metadata": {
        "id": "XO_iRJ7Pdsok"
      }
    },
    {
      "cell_type": "code",
      "metadata": {
        "colab": {
          "base_uri": "https://localhost:8080/"
        },
        "id": "b3243654",
        "outputId": "67291bfb-9709-4106-dda3-7d006ca05604"
      },
      "source": [
        "integer_variable = integer_variable + 5\n",
        "float_variable = float_variable * 2\n",
        "complex_variable = complex_variable / 2\n",
        "\n",
        "print(f\"Updated integer_variable: {integer_variable}\")\n",
        "print(f\"Updated float_variable: {float_variable}\")\n",
        "print(f\"Updated complex_variable: {complex_variable}\")"
      ],
      "execution_count": 5,
      "outputs": [
        {
          "output_type": "stream",
          "name": "stdout",
          "text": [
            "Updated integer_variable: 15\n",
            "Updated float_variable: 6.28\n",
            "Updated complex_variable: (1+1.5j)\n"
          ]
        }
      ]
    },
    {
      "cell_type": "markdown",
      "source": [
        "5. Create boolean variables with True or False values."
      ],
      "metadata": {
        "id": "LPvYPm7vd81-"
      }
    },
    {
      "cell_type": "code",
      "metadata": {
        "id": "1072554f"
      },
      "source": [
        "boolean_variable_true = True\n",
        "boolean_variable_false = False"
      ],
      "execution_count": 6,
      "outputs": []
    },
    {
      "cell_type": "markdown",
      "source": [
        "6. Print the data types of these boolean variables"
      ],
      "metadata": {
        "id": "iHgEIjSgeFnA"
      }
    },
    {
      "cell_type": "code",
      "metadata": {
        "colab": {
          "base_uri": "https://localhost:8080/"
        },
        "id": "bfa4818d",
        "outputId": "6838d52f-d1a0-4ea6-d99d-a7c38dc99f71"
      },
      "source": [
        "print(f\"boolean_variable_true: type = {type(boolean_variable_true)}\")\n",
        "print(f\"boolean_variable_false: type = {type(boolean_variable_false)}\")"
      ],
      "execution_count": 8,
      "outputs": [
        {
          "output_type": "stream",
          "name": "stdout",
          "text": [
            "boolean_variable_true: type = <class 'bool'>\n",
            "boolean_variable_false: type = <class 'bool'>\n"
          ]
        }
      ]
    },
    {
      "cell_type": "markdown",
      "source": [
        "7. Perform Boolean operations on these boolean variables."
      ],
      "metadata": {
        "id": "Cfhui9PxeWOa"
      }
    },
    {
      "cell_type": "code",
      "source": [],
      "metadata": {
        "id": "2NqjxKfVeZuK"
      },
      "execution_count": null,
      "outputs": []
    },
    {
      "cell_type": "code",
      "metadata": {
        "colab": {
          "base_uri": "https://localhost:8080/"
        },
        "id": "a5cfe516",
        "outputId": "9815d05a-d9ef-4837-af41-ba33c6b96e09"
      },
      "source": [
        "and_result = boolean_variable_true and boolean_variable_false\n",
        "or_result = boolean_variable_true or boolean_variable_false\n",
        "not_result_true = not boolean_variable_true\n",
        "not_result_false = not boolean_variable_false\n",
        "\n",
        "print(f\"True AND False: {and_result}\")\n",
        "print(f\"True OR False: {or_result}\")\n",
        "print(f\"NOT True: {not_result_true}\")\n",
        "print(f\"NOT False: {not_result_false}\")"
      ],
      "execution_count": 9,
      "outputs": [
        {
          "output_type": "stream",
          "name": "stdout",
          "text": [
            "True AND False: False\n",
            "True OR False: True\n",
            "NOT True: False\n",
            "NOT False: True\n"
          ]
        }
      ]
    },
    {
      "cell_type": "markdown",
      "source": [
        "8. Create string variables with text values."
      ],
      "metadata": {
        "id": "aQv3jrXtefGL"
      }
    },
    {
      "cell_type": "code",
      "metadata": {
        "id": "d5c3dc0b"
      },
      "source": [
        "string_variable1 = \"Hello\"\n",
        "string_variable2 = \"World\""
      ],
      "execution_count": 11,
      "outputs": []
    },
    {
      "cell_type": "markdown",
      "source": [
        "9. Print the contents and lengths of these string variables."
      ],
      "metadata": {
        "id": "ragFB4MlenXl"
      }
    },
    {
      "cell_type": "code",
      "metadata": {
        "colab": {
          "base_uri": "https://localhost:8080/"
        },
        "id": "e7d4d5cb",
        "outputId": "bb652762-eff5-4292-cddc-8f10ba49e29f"
      },
      "source": [
        "print(f\"string_variable1: content = {string_variable1}, length = {len(string_variable1)}\")\n",
        "print(f\"string_variable2: content = {string_variable2}, length = {len(string_variable2)}\")"
      ],
      "execution_count": 12,
      "outputs": [
        {
          "output_type": "stream",
          "name": "stdout",
          "text": [
            "string_variable1: content = Hello, length = 5\n",
            "string_variable2: content = World, length = 5\n"
          ]
        }
      ]
    },
    {
      "cell_type": "markdown",
      "source": [
        "10. Concatenate strings."
      ],
      "metadata": {
        "id": "Nphs5YZaetlQ"
      }
    },
    {
      "cell_type": "code",
      "metadata": {
        "colab": {
          "base_uri": "https://localhost:8080/"
        },
        "id": "8c863b6e",
        "outputId": "8c02c093-826a-42ca-cff1-434f0da21b00"
      },
      "source": [
        "concatenated_string = string_variable1 + \" \" + string_variable2\n",
        "print(f\"Concatenated string: {concatenated_string}\")"
      ],
      "execution_count": 13,
      "outputs": [
        {
          "output_type": "stream",
          "name": "stdout",
          "text": [
            "Concatenated string: Hello World\n"
          ]
        }
      ]
    },
    {
      "cell_type": "markdown",
      "source": [
        "11. Format strings with variables"
      ],
      "metadata": {
        "id": "f5x9X3lufJSj"
      }
    },
    {
      "cell_type": "code",
      "metadata": {
        "colab": {
          "base_uri": "https://localhost:8080/"
        },
        "id": "c7e519db",
        "outputId": "daf9c562-3e8f-469d-d857-ec7bc5574f79"
      },
      "source": [
        "formatted_string = f\"The concatenated string is: {concatenated_string}\"\n",
        "print(formatted_string)\n",
        "\n",
        "# Another example using .format()\n",
        "name = \"Alice\"\n",
        "age = 30\n",
        "formatted_string_format = \"My name is {} and I am {} years old.\".format(name, age)\n",
        "print(formatted_string_format)\n",
        "\n",
        "# Another example using % operator\n",
        "city = \"New York\"\n",
        "temperature = 75\n",
        "formatted_string_percent = \"The temperature in %s is %d degrees.\" % (city, temperature)\n",
        "print(formatted_string_percent)"
      ],
      "execution_count": 14,
      "outputs": [
        {
          "output_type": "stream",
          "name": "stdout",
          "text": [
            "The concatenated string is: Hello World\n",
            "My name is Alice and I am 30 years old.\n",
            "The temperature in New York is 75 degrees.\n"
          ]
        }
      ]
    },
    {
      "cell_type": "markdown",
      "source": [
        "12. Use string methods to manipulate strings by capitalizing, converting to uppercase,\n",
        "justifying, centering, replacing substrings, and stripping whitespace."
      ],
      "metadata": {
        "id": "jLU8D62gfWNa"
      }
    },
    {
      "cell_type": "code",
      "metadata": {
        "colab": {
          "base_uri": "https://localhost:8080/"
        },
        "id": "84cd2257",
        "outputId": "f71d7341-5d73-4965-b075-080528d32230"
      },
      "source": [
        "# Capitalizing the first letter\n",
        "capitalized_string = concatenated_string.capitalize()\n",
        "print(f\"Capitalized string: {capitalized_string}\")\n",
        "\n",
        "# Converting to uppercase\n",
        "uppercase_string = concatenated_string.upper()\n",
        "print(f\"Uppercase string: {uppercase_string}\")\n",
        "\n",
        "# Justifying the string\n",
        "justified_string = concatenated_string.ljust(30, '-')\n",
        "print(f\"Left justified string: {justified_string}\")\n",
        "\n",
        "# Centering the string\n",
        "centered_string = concatenated_string.center(30, '*')\n",
        "print(f\"Centered string: {centered_string}\")\n",
        "\n",
        "# Replacing substrings\n",
        "replaced_string = concatenated_string.replace(\"World\", \"Python\")\n",
        "print(f\"String with replaced substring: {replaced_string}\")\n",
        "\n",
        "# Stripping whitespace\n",
        "whitespace_string = \"   Some string with whitespace   \"\n",
        "stripped_string = whitespace_string.strip()\n",
        "print(f\"Original string with whitespace: '{whitespace_string}'\")\n",
        "print(f\"Stripped string: '{stripped_string}'\")"
      ],
      "execution_count": 15,
      "outputs": [
        {
          "output_type": "stream",
          "name": "stdout",
          "text": [
            "Capitalized string: Hello world\n",
            "Uppercase string: HELLO WORLD\n",
            "Left justified string: Hello World-------------------\n",
            "Centered string: *********Hello World**********\n",
            "String with replaced substring: Hello Python\n",
            "Original string with whitespace: '   Some string with whitespace   '\n",
            "Stripped string: 'Some string with whitespace'\n"
          ]
        }
      ]
    },
    {
      "cell_type": "markdown",
      "source": [
        "13. Create and use Python lists. Perform tasks like appending elements, indexing, slicing, and iterating through the list"
      ],
      "metadata": {
        "id": "2KzTV90pfiWO"
      }
    },
    {
      "cell_type": "code",
      "metadata": {
        "colab": {
          "base_uri": "https://localhost:8080/"
        },
        "id": "3e0a8f10",
        "outputId": "c9358d1b-286f-493a-f46e-0a0a712418db"
      },
      "source": [
        "# Create a list\n",
        "my_list = [1, 2, 3, 4, 5]\n",
        "print(f\"Original list: {my_list}\")\n",
        "\n",
        "# Append an element\n",
        "my_list.append(6)\n",
        "print(f\"List after appending: {my_list}\")\n",
        "\n",
        "# Indexing\n",
        "first_element = my_list[0]\n",
        "print(f\"First element: {first_element}\")\n",
        "\n",
        "# Slicing\n",
        "subset_list = my_list[2:5]\n",
        "print(f\"Subset of the list: {subset_list}\")\n",
        "\n",
        "# Iterating through the list\n",
        "print(\"Iterating through the list:\")\n",
        "for item in my_list:\n",
        "  print(item)"
      ],
      "execution_count": 16,
      "outputs": [
        {
          "output_type": "stream",
          "name": "stdout",
          "text": [
            "Original list: [1, 2, 3, 4, 5]\n",
            "List after appending: [1, 2, 3, 4, 5, 6]\n",
            "First element: 1\n",
            "Subset of the list: [3, 4, 5]\n",
            "Iterating through the list:\n",
            "1\n",
            "2\n",
            "3\n",
            "4\n",
            "5\n",
            "6\n"
          ]
        }
      ]
    },
    {
      "cell_type": "markdown",
      "source": [
        "14. Create and use Python tuples. Perform tasks like indexing, slicing, and concatenation.\n"
      ],
      "metadata": {
        "id": "nPQeXcg7fqUb"
      }
    },
    {
      "cell_type": "code",
      "metadata": {
        "colab": {
          "base_uri": "https://localhost:8080/"
        },
        "id": "b9ae6826",
        "outputId": "b2f1c877-6848-445a-e7eb-98ce6a4c147f"
      },
      "source": [
        "# Create a tuple\n",
        "my_tuple = (10, 20, 30, 40, 50)\n",
        "print(f\"Original tuple: {my_tuple}\")\n",
        "\n",
        "# Indexing\n",
        "first_element_tuple = my_tuple[0]\n",
        "print(f\"First element: {first_element_tuple}\")\n",
        "\n",
        "# Slicing\n",
        "subset_tuple = my_tuple[1:4]\n",
        "print(f\"Subset of the tuple: {subset_tuple}\")\n",
        "\n",
        "# Concatenation\n",
        "another_tuple = (60, 70)\n",
        "concatenated_tuple = my_tuple + another_tuple\n",
        "print(f\"Concatenated tuple: {concatenated_tuple}\")"
      ],
      "execution_count": 17,
      "outputs": [
        {
          "output_type": "stream",
          "name": "stdout",
          "text": [
            "Original tuple: (10, 20, 30, 40, 50)\n",
            "First element: 10\n",
            "Subset of the tuple: (20, 30, 40)\n",
            "Concatenated tuple: (10, 20, 30, 40, 50, 60, 70)\n"
          ]
        }
      ]
    },
    {
      "cell_type": "markdown",
      "source": [
        "15. Create and use Python sets. Perform tasks like accessing, adding, deleting set elements."
      ],
      "metadata": {
        "id": "Si2UJgV_fxXl"
      }
    },
    {
      "cell_type": "code",
      "metadata": {
        "colab": {
          "base_uri": "https://localhost:8080/"
        },
        "id": "fa0c0799",
        "outputId": "0f9fdb2c-c830-44e7-bf5f-8793aad9a155"
      },
      "source": [
        "# Create a set\n",
        "my_set = {1, 2, 3, 4, 5}\n",
        "print(f\"Original set: {my_set}\")\n",
        "\n",
        "# Adding elements\n",
        "my_set.add(6)\n",
        "print(f\"Set after adding an element: {my_set}\")\n",
        "\n",
        "# Adding multiple elements\n",
        "my_set.update({7, 8})\n",
        "print(f\"Set after adding multiple elements: {my_set}\")\n",
        "\n",
        "# Accessing elements (Note: Sets are unordered, so you cannot access elements by index)\n",
        "# You can check for the presence of an element\n",
        "print(f\"Is 3 in the set? {3 in my_set}\")\n",
        "print(f\"Is 10 in the set? {10 in my_set}\")\n",
        "\n",
        "# Deleting elements\n",
        "my_set.remove(3)  # Removes a specified element, raises an error if the element is not found\n",
        "print(f\"Set after removing 3: {my_set}\")\n",
        "\n",
        "my_set.discard(10) # Removes a specified element if present, does not raise an error if the element is not found\n",
        "print(f\"Set after discarding 10: {my_set}\")\n",
        "\n",
        "my_set.pop() # Removes and returns an arbitrary element from the set\n",
        "print(f\"Set after popping an element: {my_set}\")\n",
        "\n",
        "# Iterating through a set\n",
        "print(\"Iterating through the set:\")\n",
        "for item in my_set:\n",
        "  print(item)"
      ],
      "execution_count": 18,
      "outputs": [
        {
          "output_type": "stream",
          "name": "stdout",
          "text": [
            "Original set: {1, 2, 3, 4, 5}\n",
            "Set after adding an element: {1, 2, 3, 4, 5, 6}\n",
            "Set after adding multiple elements: {1, 2, 3, 4, 5, 6, 7, 8}\n",
            "Is 3 in the set? True\n",
            "Is 10 in the set? False\n",
            "Set after removing 3: {1, 2, 4, 5, 6, 7, 8}\n",
            "Set after discarding 10: {1, 2, 4, 5, 6, 7, 8}\n",
            "Set after popping an element: {2, 4, 5, 6, 7, 8}\n",
            "Iterating through the set:\n",
            "2\n",
            "4\n",
            "5\n",
            "6\n",
            "7\n",
            "8\n"
          ]
        }
      ]
    },
    {
      "cell_type": "markdown",
      "source": [
        "16. Create and use Python dictionaries. Perform tasks like adding, updating, and removing key-value pairs, and accessing values."
      ],
      "metadata": {
        "id": "fLEll15Qf86d"
      }
    },
    {
      "cell_type": "code",
      "metadata": {
        "colab": {
          "base_uri": "https://localhost:8080/"
        },
        "id": "1ea4b9b3",
        "outputId": "8f2c965d-01c5-4c29-d6af-edce1e2429f6"
      },
      "source": [
        "# Create a dictionary\n",
        "my_dict = {\"apple\": 1, \"banana\": 2, \"cherry\": 3}\n",
        "print(f\"Original dictionary: {my_dict}\")\n",
        "\n",
        "# Accessing values\n",
        "print(f\"Value for 'banana': {my_dict['banana']}\")\n",
        "\n",
        "# Adding a new key-value pair\n",
        "my_dict[\"date\"] = 4\n",
        "print(f\"Dictionary after adding 'date': {my_dict}\")\n",
        "\n",
        "# Updating a value\n",
        "my_dict[\"apple\"] = 10\n",
        "print(f\"Dictionary after updating 'apple': {my_dict}\")\n",
        "\n",
        "# Removing a key-value pair\n",
        "del my_dict[\"cherry\"]\n",
        "print(f\"Dictionary after removing 'cherry': {my_dict}\")\n",
        "\n",
        "# Iterating through a dictionary\n",
        "print(\"Iterating through the dictionary:\")\n",
        "for key, value in my_dict.items():\n",
        "  print(f\"Key: {key}, Value: {value}\")"
      ],
      "execution_count": 19,
      "outputs": [
        {
          "output_type": "stream",
          "name": "stdout",
          "text": [
            "Original dictionary: {'apple': 1, 'banana': 2, 'cherry': 3}\n",
            "Value for 'banana': 2\n",
            "Dictionary after adding 'date': {'apple': 1, 'banana': 2, 'cherry': 3, 'date': 4}\n",
            "Dictionary after updating 'apple': {'apple': 10, 'banana': 2, 'cherry': 3, 'date': 4}\n",
            "Dictionary after removing 'cherry': {'apple': 10, 'banana': 2, 'date': 4}\n",
            "Iterating through the dictionary:\n",
            "Key: apple, Value: 10\n",
            "Key: banana, Value: 2\n",
            "Key: date, Value: 4\n"
          ]
        }
      ]
    },
    {
      "cell_type": "markdown",
      "source": [
        "17. Define simple functions with parameters and return values."
      ],
      "metadata": {
        "id": "O4vYgKAvgEYl"
      }
    },
    {
      "cell_type": "code",
      "metadata": {
        "colab": {
          "base_uri": "https://localhost:8080/"
        },
        "id": "48f8da94",
        "outputId": "dfd36109-11d5-476d-92df-eb21a5d21d71"
      },
      "source": [
        "# Define a function that takes two parameters and returns their sum\n",
        "def add_numbers(a, b):\n",
        "  \"\"\"This function takes two numbers as input and returns their sum.\"\"\"\n",
        "  return a + b\n",
        "\n",
        "# Call the function with some values and print the result\n",
        "result = add_numbers(5, 7)\n",
        "print(f\"The sum of 5 and 7 is: {result}\")\n",
        "\n",
        "# Define a function with a default parameter value\n",
        "def greet(name=\"Guest\"):\n",
        "  \"\"\"This function greets the person passed in as a parameter, with a default greeting for guests.\"\"\"\n",
        "  print(f\"Hello, {name}!\")\n",
        "\n",
        "# Call the greet function\n",
        "greet(\"Alice\")\n",
        "greet() # Call with default value"
      ],
      "execution_count": 20,
      "outputs": [
        {
          "output_type": "stream",
          "name": "stdout",
          "text": [
            "The sum of 5 and 7 is: 12\n",
            "Hello, Alice!\n",
            "Hello, Guest!\n"
          ]
        }
      ]
    },
    {
      "cell_type": "markdown",
      "source": [
        "18. Call functions with different arguments and use the returned results.\n"
      ],
      "metadata": {
        "id": "-YnVmiSlgP67"
      }
    },
    {
      "cell_type": "code",
      "metadata": {
        "colab": {
          "base_uri": "https://localhost:8080/"
        },
        "id": "7f4a0a90",
        "outputId": "c1f6816c-b947-4899-a1c7-42a6ac873783"
      },
      "source": [
        "# Call the add_numbers function with different arguments\n",
        "result1 = add_numbers(10, 20)\n",
        "result2 = add_numbers(float_variable, integer_variable) # Using previously defined variables\n",
        "\n",
        "print(f\"Result of adding 10 and 20: {result1}\")\n",
        "print(f\"Result of adding float_variable and integer_variable: {result2}\")\n",
        "\n",
        "# Use the returned result in another operation\n",
        "final_result = result1 * 2\n",
        "print(f\"Double the first result: {final_result}\")"
      ],
      "execution_count": 21,
      "outputs": [
        {
          "output_type": "stream",
          "name": "stdout",
          "text": [
            "Result of adding 10 and 20: 30\n",
            "Result of adding float_variable and integer_variable: 21.28\n",
            "Double the first result: 60\n"
          ]
        }
      ]
    },
    {
      "cell_type": "markdown",
      "source": [
        "19. Write functions that accept other functions as arguments."
      ],
      "metadata": {
        "id": "1gWH3OfxgW_a"
      }
    },
    {
      "cell_type": "code",
      "metadata": {
        "colab": {
          "base_uri": "https://localhost:8080/"
        },
        "id": "5f9f4e04",
        "outputId": "bf4c32b2-6a1f-40c3-9d5a-3268a1765a6a"
      },
      "source": [
        "# Define a function that takes another function and a value as arguments\n",
        "def apply_function(func, value):\n",
        "  \"\"\"This function takes a function and a value, and applies the function to the value.\"\"\"\n",
        "  return func(value)\n",
        "\n",
        "# Define a simple function to be passed as an argument\n",
        "def double(x):\n",
        "  \"\"\"This function doubles its input value.\"\"\"\n",
        "  return x * 2\n",
        "\n",
        "# Define another simple function\n",
        "def square(x):\n",
        "  \"\"\"This function squares its input value.\"\"\"\n",
        "  return x * x\n",
        "\n",
        "# Use apply_function with the double function\n",
        "result_double = apply_function(double, 10)\n",
        "print(f\"Applying 'double' to 10: {result_double}\")\n",
        "\n",
        "# Use apply_function with the square function\n",
        "result_square = apply_function(square, 5)\n",
        "print(f\"Applying 'square' to 5: {result_square}\")"
      ],
      "execution_count": 22,
      "outputs": [
        {
          "output_type": "stream",
          "name": "stdout",
          "text": [
            "Applying 'double' to 10: 20\n",
            "Applying 'square' to 5: 25\n"
          ]
        }
      ]
    },
    {
      "cell_type": "markdown",
      "source": [
        "20. Define and use Python classes. Include tasks like creating a class, defining methods,\n",
        "and creating instances."
      ],
      "metadata": {
        "id": "RWYzuGCFghKR"
      }
    },
    {
      "cell_type": "code",
      "metadata": {
        "colab": {
          "base_uri": "https://localhost:8080/"
        },
        "id": "a3f26dee",
        "outputId": "a4c6d6e0-87fc-4cbe-bd7e-362834502ad8"
      },
      "source": [
        "# Define a simple class\n",
        "class Dog:\n",
        "  \"\"\"A simple class representing a dog.\"\"\"\n",
        "\n",
        "  def __init__(self, name, breed):\n",
        "    \"\"\"Constructor to initialize the Dog object.\"\"\"\n",
        "    self.name = name\n",
        "    self.breed = breed\n",
        "    print(f\"A new dog named {self.name} of breed {self.breed} has been created!\")\n",
        "\n",
        "  def bark(self):\n",
        "    \"\"\"A method for the dog to bark.\"\"\"\n",
        "    print(f\"{self.name} says Woof!\")\n",
        "\n",
        "  def describe(self):\n",
        "    \"\"\"A method to describe the dog.\"\"\"\n",
        "    print(f\"{self.name} is a {self.breed}.\")\n",
        "\n",
        "# Create instances of the Dog class\n",
        "my_dog = Dog(\"Buddy\", \"Golden Retriever\")\n",
        "your_dog = Dog(\"Lucy\", \"Labrador\")\n",
        "\n",
        "# Access attributes and call methods\n",
        "my_dog.bark()\n",
        "your_dog.describe()"
      ],
      "execution_count": 23,
      "outputs": [
        {
          "output_type": "stream",
          "name": "stdout",
          "text": [
            "A new dog named Buddy of breed Golden Retriever has been created!\n",
            "A new dog named Lucy of breed Labrador has been created!\n",
            "Buddy says Woof!\n",
            "Lucy is a Labrador.\n"
          ]
        }
      ]
    },
    {
      "cell_type": "markdown",
      "source": [
        "21. Implement class inheritance and method overriding."
      ],
      "metadata": {
        "id": "1SFMYP2cgpEN"
      }
    },
    {
      "cell_type": "code",
      "metadata": {
        "colab": {
          "base_uri": "https://localhost:8080/"
        },
        "id": "2497d4ec",
        "outputId": "4a80ca3d-4ac4-447f-ad4b-ad1f174b5d86"
      },
      "source": [
        "# Define a class that inherits from the Dog class\n",
        "class WorkingDog(Dog):\n",
        "  \"\"\"A class representing a working dog, inheriting from Dog.\"\"\"\n",
        "\n",
        "  def __init__(self, name, breed, task):\n",
        "    \"\"\"Constructor to initialize the WorkingDog object.\"\"\"\n",
        "    super().__init__(name, breed) # Call the parent class constructor\n",
        "    self.task = task\n",
        "    print(f\"{self.name} is a working dog trained for {self.task}.\")\n",
        "\n",
        "  # Override the bark method\n",
        "  def bark(self):\n",
        "    \"\"\"Override the bark method for a working dog.\"\"\"\n",
        "    print(f\"{self.name} barks intently while {self.task}.\")\n",
        "\n",
        "  # Add a new method specific to WorkingDog\n",
        "  def perform_task(self):\n",
        "    \"\"\"A method for the working dog to perform its task.\"\"\"\n",
        "    print(f\"{self.name} is performing its task: {self.task}.\")\n",
        "\n",
        "# Create an instance of the WorkingDog class\n",
        "my_working_dog = WorkingDog(\"Rex\", \"German Shepherd\", \"herding\")\n",
        "\n",
        "# Call methods from both parent and child classes\n",
        "my_working_dog.describe() # Method from parent class\n",
        "my_working_dog.bark()     # Overridden method from child class\n",
        "my_working_dog.perform_task() # Method specific to child class"
      ],
      "execution_count": 24,
      "outputs": [
        {
          "output_type": "stream",
          "name": "stdout",
          "text": [
            "A new dog named Rex of breed German Shepherd has been created!\n",
            "Rex is a working dog trained for herding.\n",
            "Rex is a German Shepherd.\n",
            "Rex barks intently while herding.\n",
            "Rex is performing its task: herding.\n"
          ]
        }
      ]
    },
    {
      "cell_type": "markdown",
      "source": [
        "22. Create a class with class variables and instance variables, and demonstrate their\n",
        "usage."
      ],
      "metadata": {
        "id": "91X1R0D7gwAz"
      }
    },
    {
      "cell_type": "code",
      "metadata": {
        "colab": {
          "base_uri": "https://localhost:8080/"
        },
        "id": "f03ce1a0",
        "outputId": "323b7cac-a95c-48db-e8af-25880734f498"
      },
      "source": [
        "class Car:\n",
        "  \"\"\"A simple class demonstrating class and instance variables.\"\"\"\n",
        "\n",
        "  # Class variable (shared by all instances of the class)\n",
        "  number_of_wheels = 4\n",
        "\n",
        "  def __init__(self, make, model):\n",
        "    \"\"\"Constructor to initialize the Car object with instance variables.\"\"\"\n",
        "    # Instance variables (unique to each instance)\n",
        "    self.make = make\n",
        "    self.model = model\n",
        "    self.is_engine_on = False\n",
        "\n",
        "  def start_engine(self):\n",
        "    \"\"\"Method to start the car's engine.\"\"\"\n",
        "    self.is_engine_on = True\n",
        "    print(f\"The engine of the {self.make} {self.model} is now on.\")\n",
        "\n",
        "  def stop_engine(self):\n",
        "    \"\"\"Method to stop the car's engine.\"\"\"\n",
        "    self.is_engine_on = False\n",
        "    print(f\"The engine of the {self.make} {self.model} is now off.\")\n",
        "\n",
        "  def describe_car(self):\n",
        "    \"\"\"Method to describe the car.\"\"\"\n",
        "    print(f\"This is a {self.make} {self.model} with {Car.number_of_wheels} wheels.\")\n",
        "    if self.is_engine_on:\n",
        "      print(\"The engine is currently running.\")\n",
        "    else:\n",
        "      print(\"The engine is currently off.\")\n",
        "\n",
        "# Create instances of the Car class\n",
        "car1 = Car(\"Toyota\", \"Camry\")\n",
        "car2 = Car(\"Honda\", \"Civic\")\n",
        "\n",
        "# Access class variable using the class name\n",
        "print(f\"All cars have {Car.number_of_wheels} wheels.\")\n",
        "\n",
        "# Access class variable using an instance (though accessing via class is preferred)\n",
        "print(f\"Car1 has {car1.number_of_wheels} wheels.\")\n",
        "\n",
        "# Access instance variables\n",
        "print(f\"Car1 is a {car1.make} {car1.model}.\")\n",
        "print(f\"Car2 is a {car2.make} {car2.model}.\")\n",
        "\n",
        "# Call instance methods\n",
        "car1.describe_car()\n",
        "car1.start_engine()\n",
        "car1.describe_car()\n",
        "car1.stop_engine()\n",
        "car1.describe_car()\n",
        "\n",
        "car2.describe_car()"
      ],
      "execution_count": 25,
      "outputs": [
        {
          "output_type": "stream",
          "name": "stdout",
          "text": [
            "All cars have 4 wheels.\n",
            "Car1 has 4 wheels.\n",
            "Car1 is a Toyota Camry.\n",
            "Car2 is a Honda Civic.\n",
            "This is a Toyota Camry with 4 wheels.\n",
            "The engine is currently off.\n",
            "The engine of the Toyota Camry is now on.\n",
            "This is a Toyota Camry with 4 wheels.\n",
            "The engine is currently running.\n",
            "The engine of the Toyota Camry is now off.\n",
            "This is a Toyota Camry with 4 wheels.\n",
            "The engine is currently off.\n",
            "This is a Honda Civic with 4 wheels.\n",
            "The engine is currently off.\n"
          ]
        }
      ]
    }
  ]
}